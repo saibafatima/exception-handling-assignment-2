{
 "cells": [
  {
   "cell_type": "code",
   "execution_count": 1,
   "id": "3dd5b35a-6bc2-4783-81c1-9a4778577fec",
   "metadata": {},
   "outputs": [],
   "source": [
    "#Q1. Explain why we have to use the Exception class while creating a Custom Exception."
   ]
  },
  {
   "cell_type": "code",
   "execution_count": 2,
   "id": "d2a23780-e2a7-49c3-95fc-4c67d72d5992",
   "metadata": {},
   "outputs": [],
   "source": [
    "#By inheriting from Exception, your custom exception class will automatically inherit the following benefits:\n",
    "\n",
    "#It will be recognized as an exception by Python's exception handling mechanism.\n",
    "#It will have access to the __init__ method, which allows you to customize the exception's initialization.\n",
    "#It will have access to the __str__ method, which allows you to customize the exception's string representation."
   ]
  },
  {
   "cell_type": "code",
   "execution_count": 3,
   "id": "fc53a192-fbd3-4fd7-bc23-afcad9cb5bf1",
   "metadata": {},
   "outputs": [],
   "source": [
    "#Q2. Write a python program to print Python Exception Hierarchy."
   ]
  },
  {
   "cell_type": "code",
   "execution_count": 4,
   "id": "7cd2ecea-8fbf-41c4-87b0-2c587a3c43e5",
   "metadata": {},
   "outputs": [
    {
     "ename": "ModuleNotFoundError",
     "evalue": "No module named 'exceptions'",
     "output_type": "error",
     "traceback": [
      "\u001b[0;31m---------------------------------------------------------------------------\u001b[0m",
      "\u001b[0;31mModuleNotFoundError\u001b[0m                       Traceback (most recent call last)",
      "Cell \u001b[0;32mIn[4], line 1\u001b[0m\n\u001b[0;32m----> 1\u001b[0m \u001b[38;5;28;01mimport\u001b[39;00m \u001b[38;5;21;01mexceptions\u001b[39;00m\n\u001b[1;32m      3\u001b[0m \u001b[38;5;28;01mdef\u001b[39;00m \u001b[38;5;21mprint_exception_hierarchy\u001b[39m(\u001b[38;5;28mcls\u001b[39m, indent\u001b[38;5;241m=\u001b[39m\u001b[38;5;241m0\u001b[39m):\n\u001b[1;32m      4\u001b[0m     \u001b[38;5;28mprint\u001b[39m(\u001b[38;5;124m\"\u001b[39m\u001b[38;5;124m  \u001b[39m\u001b[38;5;124m\"\u001b[39m \u001b[38;5;241m*\u001b[39m indent \u001b[38;5;241m+\u001b[39m \u001b[38;5;28mcls\u001b[39m\u001b[38;5;241m.\u001b[39m\u001b[38;5;18m__name__\u001b[39m)\n",
      "\u001b[0;31mModuleNotFoundError\u001b[0m: No module named 'exceptions'"
     ]
    }
   ],
   "source": [
    "import exceptions\n",
    "\n",
    "def print_exception_hierarchy(cls, indent=0):\n",
    "    print(\"  \" * indent + cls.__name__)\n",
    "    for subclass in cls.__subclasses__():\n",
    "        print_exception_hierarchy(subclass, indent + 1)\n",
    "\n",
    "print_exception_hierarchy(BaseException)"
   ]
  },
  {
   "cell_type": "code",
   "execution_count": 5,
   "id": "001fe0d3-fd55-4c58-9b8f-6a8db532c4fb",
   "metadata": {},
   "outputs": [],
   "source": [
    "#Q3. What errors are defined in the ArithmeticError class? Explain any two with an example."
   ]
  },
  {
   "cell_type": "code",
   "execution_count": 6,
   "id": "c2b8a381-3214-4ed2-b663-705577a2fba3",
   "metadata": {},
   "outputs": [
    {
     "name": "stdout",
     "output_type": "stream",
     "text": [
      "Error: Division by zero!\n"
     ]
    }
   ],
   "source": [
    "#ZeroDivisionError:\n",
    "\n",
    "try:\n",
    "    x = 5 / 0\n",
    "except ZeroDivisionError:\n",
    "    print(\"Error: Division by zero!\")"
   ]
  },
  {
   "cell_type": "code",
   "execution_count": 7,
   "id": "3cf723c7-3c78-449c-a520-0924712e445d",
   "metadata": {},
   "outputs": [],
   "source": [
    "#over flow error\n",
    "\n",
    "try:\n",
    "    x = 2 ** 1000000\n",
    "except OverflowError:\n",
    "    print(\"Error: Numerical operation exceeded maximum limit!\")"
   ]
  },
  {
   "cell_type": "code",
   "execution_count": 8,
   "id": "cf998b79-1216-4d76-ba33-138369abd7f9",
   "metadata": {},
   "outputs": [],
   "source": [
    "#Q4. Why LookupError class is used? Explain with an example KeyError and IndexError."
   ]
  },
  {
   "cell_type": "code",
   "execution_count": 9,
   "id": "d1a88889-6e3a-4987-b7c5-f53149601689",
   "metadata": {},
   "outputs": [
    {
     "name": "stdout",
     "output_type": "stream",
     "text": [
      "Error: Key not found in dictionary!\n"
     ]
    }
   ],
   "source": [
    "#The LookupError class is a subclass of Exception that represents errors that occur when a key or index is not found in a data structure. The following errors are defined in the LookupError class:\n",
    "\n",
    "#key error\n",
    "d = {\"a\": 1, \"b\": 2}\n",
    "try:\n",
    "    x = d[\"c\"]\n",
    "except KeyError:\n",
    "    print(\"Error: Key not found in dictionary!\")"
   ]
  },
  {
   "cell_type": "code",
   "execution_count": 10,
   "id": "c6acc071-bbdb-4d2f-ad77-e513d0615b08",
   "metadata": {},
   "outputs": [
    {
     "name": "stdout",
     "output_type": "stream",
     "text": [
      "Error: Index out of range!\n"
     ]
    }
   ],
   "source": [
    "#index error\n",
    "\n",
    "l = [1, 2, 3]\n",
    "try:\n",
    "    x = l[5]\n",
    "except IndexError:\n",
    "    print(\"Error: Index out of range!\")"
   ]
  },
  {
   "cell_type": "code",
   "execution_count": 11,
   "id": "777e5045-5496-4610-8a6b-714abca569d8",
   "metadata": {},
   "outputs": [],
   "source": [
    "#Q5. Explain ImportError. What is ModuleNotFoundError?"
   ]
  },
  {
   "cell_type": "code",
   "execution_count": 12,
   "id": "e069b299-d3ca-4c89-81b3-b26eaa3c1484",
   "metadata": {},
   "outputs": [
    {
     "name": "stdout",
     "output_type": "stream",
     "text": [
      "Error: Module not found!\n"
     ]
    }
   ],
   "source": [
    "#ImportError is a subclass of Exception that represents errors that occur during the import process. It is raised when a module or package cannot be imported.\n",
    "\n",
    "#ModuleNotFoundError is a subclass of ImportError that represents errors that occur when a module or package is not found. It is raised when a module or package is not installed or is not in the Python path.\n",
    "\n",
    "\n",
    "try:\n",
    "    import nonexistent_module\n",
    "except ImportError:\n",
    "    print(\"Error: Module not found!\")"
   ]
  },
  {
   "cell_type": "code",
   "execution_count": 13,
   "id": "8fd625a9-05cc-448f-be2b-befe409e429d",
   "metadata": {},
   "outputs": [],
   "source": [
    "#Q6. List down some best practices for exception handling in python."
   ]
  },
  {
   "cell_type": "code",
   "execution_count": 15,
   "id": "329e7616-99a3-4e04-88b2-142919ad08d9",
   "metadata": {},
   "outputs": [
    {
     "ename": "SyntaxError",
     "evalue": "invalid syntax (212596897.py, line 4)",
     "output_type": "error",
     "traceback": [
      "\u001b[0;36m  Cell \u001b[0;32mIn[15], line 4\u001b[0;36m\u001b[0m\n\u001b[0;31m    except ValueError:\u001b[0m\n\u001b[0m    ^\u001b[0m\n\u001b[0;31mSyntaxError\u001b[0m\u001b[0;31m:\u001b[0m invalid syntax\n"
     ]
    }
   ],
   "source": [
    "# 1. use specific exceptions\n",
    "#2.use try except blocks\n",
    "#3.keep try blocks small\n",
    "#4.use finally blocks\n",
    "#5.log exceptions\n",
    "#6.reraise exceptions\n",
    "#7.avoid bare except clauses\n",
    "#8.use context managers\n",
    "#9.\n",
    "\n",
    "    \n",
    "    \n"
   ]
  },
  {
   "cell_type": "code",
   "execution_count": null,
   "id": "28bef341-c9ec-474a-ab3e-fc204ae2a885",
   "metadata": {},
   "outputs": [],
   "source": []
  }
 ],
 "metadata": {
  "kernelspec": {
   "display_name": "Python 3 (ipykernel)",
   "language": "python",
   "name": "python3"
  },
  "language_info": {
   "codemirror_mode": {
    "name": "ipython",
    "version": 3
   },
   "file_extension": ".py",
   "mimetype": "text/x-python",
   "name": "python",
   "nbconvert_exporter": "python",
   "pygments_lexer": "ipython3",
   "version": "3.10.8"
  }
 },
 "nbformat": 4,
 "nbformat_minor": 5
}
